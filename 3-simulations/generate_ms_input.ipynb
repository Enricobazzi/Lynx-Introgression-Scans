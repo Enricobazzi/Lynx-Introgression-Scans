{
 "cells": [
  {
   "cell_type": "code",
   "execution_count": 86,
   "id": "d4ca53ef-9b40-4fcb-bc06-82132c15ddfe",
   "metadata": {},
   "outputs": [],
   "source": [
    "import sys\n",
    "import os\n",
    "import numpy as np\n",
    "import dadi\n",
    "from dadi import Numerics, PhiManip, Integration, Misc\n",
    "from dadi.Spectrum_mod import Spectrum\n",
    "import pylab\n",
    "import matplotlib.pyplot as plt\n",
    "import argparse\n",
    "import pandas"
   ]
  },
  {
   "cell_type": "markdown",
   "id": "8f477db0",
   "metadata": {},
   "source": [
    "## Build a dictionary of the best model and its parameters"
   ]
  },
  {
   "cell_type": "markdown",
   "id": "ed9f7866",
   "metadata": {},
   "source": [
    "Choose the population pair to investigate:"
   ]
  },
  {
   "cell_type": "code",
   "execution_count": 58,
   "id": "97ea9e8e",
   "metadata": {},
   "outputs": [],
   "source": [
    "pops = \"sm_ki\""
   ]
  },
  {
   "cell_type": "markdown",
   "id": "549ac3b9",
   "metadata": {},
   "source": [
    "Import all of the optimization results:"
   ]
  },
  {
   "cell_type": "code",
   "execution_count": 59,
   "id": "615c6d28",
   "metadata": {},
   "outputs": [],
   "source": [
    "opti_result_dir = \"/Users/enrico/Documents/Lynx-Introgression-Scans/2-infer_demographic_history/dadi/tables/\"\n",
    "\n",
    "all_best_lls = []\n",
    "\n",
    "for chosen_model in [\"model_1_a\", \"model_1_b\", \"model_2_a\", \"model_2_b\", \"model_2_c\"]:\n",
    "    \n",
    "    for i in range(1, 21):\n",
    "    \n",
    "        model_file_name = [opti_result_dir, pops, \".\", chosen_model, \".optimized.r_\", str(i), \".txt\"]\n",
    "        model_file_name = ''.join(model_file_name)\n",
    "        if os.path.isfile(model_file_name):\n",
    "            model_optimized_allrounds = pandas.read_csv(model_file_name, sep='\\t')\n",
    "            ll_col = model_optimized_allrounds.loc[:,\"log-likelihood\"]\n",
    "            best_ll = model_optimized_allrounds.iloc[ll_col.idxmax(),]\n",
    "            all_best_lls.append(best_ll)"
   ]
  },
  {
   "cell_type": "markdown",
   "id": "7429f9a1",
   "metadata": {},
   "source": [
    "**RUN THIS ONLY FOR TESTING WITH RESULTS FROM model_2_d :**"
   ]
  },
  {
   "cell_type": "code",
   "execution_count": 210,
   "id": "e68df8eb",
   "metadata": {},
   "outputs": [],
   "source": [
    "opti_result_dir = \"/Users/enrico/Documents/Lynx-Introgression-Scans/2-infer_demographic_history/dadi/tables/\"\n",
    "\n",
    "all_best_lls = []\n",
    "\n",
    "for chosen_model in [\"model_2_d\"]:\n",
    "    \n",
    "    for i in range(1, 21):\n",
    "    \n",
    "        model_file_name = [opti_result_dir, pops, \".\", chosen_model, \".optimized.r_\", str(i), \".txt\"]\n",
    "        model_file_name = ''.join(model_file_name)\n",
    "        if os.path.isfile(model_file_name):\n",
    "            model_optimized_allrounds = pandas.read_csv(model_file_name, sep='\\t')\n",
    "            ll_col = model_optimized_allrounds.loc[:,\"log-likelihood\"]\n",
    "            best_ll = model_optimized_allrounds.iloc[ll_col.idxmax(),]\n",
    "            all_best_lls.append(best_ll)"
   ]
  },
  {
   "cell_type": "markdown",
   "id": "fe0f3957",
   "metadata": {},
   "source": [
    "Extract best scoring model and its parameters:"
   ]
  },
  {
   "cell_type": "code",
   "execution_count": 211,
   "id": "1a1fb400",
   "metadata": {},
   "outputs": [],
   "source": [
    "all_best_lls_df = pandas.concat(all_best_lls, axis=1).T\n",
    "best_ll = all_best_lls_df.sort_values('log-likelihood', ascending=False)[:1]\n",
    "if best_ll.iloc[0,0] == \"model_1_a\":\n",
    "    param_string = best_ll.iloc[0,6].split(\",\")\n",
    "if best_ll.iloc[0,0] == \"model_1_b\":\n",
    "    param_string = best_ll.iloc[0,6].split(\",\")\n",
    "if best_ll.iloc[0,0] == \"model_2_a\":\n",
    "    param_string = best_ll.iloc[0,6].split(\",\")\n",
    "if best_ll.iloc[0,0] == \"model_2_b\":\n",
    "    param_string = best_ll.iloc[0,6].split(\",\")\n",
    "if best_ll.iloc[0,0] == \"model_2_c\":\n",
    "    param_string = best_ll.iloc[0,6].split(\",\")\n",
    "if best_ll.iloc[0,0] == \"model_2_d\":\n",
    "    param_string = best_ll.iloc[0,6].split(\",\")\n",
    "params = [float(l) for l in param_string]"
   ]
  },
  {
   "cell_type": "markdown",
   "id": "9037687e",
   "metadata": {},
   "source": [
    "Build parameter dictionary:"
   ]
  },
  {
   "cell_type": "code",
   "execution_count": 212,
   "id": "d3e040d8",
   "metadata": {},
   "outputs": [
    {
     "data": {
      "text/plain": [
       "{'Tsplit': 0.9658,\n",
       " 'Tbot': 0.2603,\n",
       " 'Tbot_a': 0.5368,\n",
       " 'iber_a': 0.4244,\n",
       " 'iber_pr_a': 0.1247,\n",
       " 'iber_pr': 0.5396,\n",
       " 'eura_a': 0.0248,\n",
       " 'eura_pr': 0.1814,\n",
       " 'theta': 19462667.95,\n",
       " 'best_model': 'model_2_d'}"
      ]
     },
     "execution_count": 212,
     "metadata": {},
     "output_type": "execute_result"
    }
   ],
   "source": [
    "if len(params) == 9:\n",
    "    param_def = [\"Tsplit\", \"Tbot\", \"iber_a\", \"iber_pr\", \"eura_a\", \"eura_pr\"]\n",
    "if len(params) == 13:\n",
    "    param_def = [\"Tsplit\", \"Tbot\", \"Tbot_a\", \"iber_a\", \"iber_pr_a\", \"iber_pr\", \"eura_a\", \"eura_pr\"]\n",
    "par_dict = {param_def[i]: params[i] for i in range(len(param_def))}\n",
    "par_dict['theta'] = best_ll.iloc[0,5]\n",
    "par_dict['best_model'] = best_ll.iloc[0,0]\n",
    "par_dict"
   ]
  },
  {
   "cell_type": "markdown",
   "id": "97d448b3",
   "metadata": {},
   "source": [
    "Try the ms function to build the ms command.\n",
    "Reimporting the MS functions each time so any modifications to the my_ms_functions.py script are updated."
   ]
  },
  {
   "cell_type": "markdown",
   "id": "118ac47c",
   "metadata": {},
   "source": [
    "**no migration :**"
   ]
  },
  {
   "cell_type": "code",
   "execution_count": 215,
   "id": "9ccb8563",
   "metadata": {},
   "outputs": [
    {
     "name": "stdout",
     "output_type": "stream",
     "text": [
      "-t 99.379710 -I 2 1 1 -n 1 0.010419 -n 2 0.002668 -eg 0 1 -11.775132 -eg 0 2 -4.789848 -en 0.087196 1 0.029090 -eg 0.087196 1 -5.343199 -en 0.512404 1 0.282128 -en 0.512404 2 0.020450 -ej 1.082574 2 1 -r 3147.024166 993.797105\n"
     ]
    }
   ],
   "source": [
    "if \"my_ms_functions\" in sys.modules:\n",
    "    del sys.modules[\"my_ms_functions\"]\n",
    "import my_ms_functions\n",
    "\n",
    "if par_dict[\"best_model\"] == \"model_1_a\":\n",
    "    print(my_ms_functions.model_1_a_ms(list(par_dict.values())[0:-1]))\n",
    "if par_dict[\"best_model\"] == \"model_2_d\":\n",
    "    print(my_ms_functions.model_2_d_ms(list(par_dict.values())[0:-1]))\n"
   ]
  },
  {
   "cell_type": "markdown",
   "id": "93ebdfbe",
   "metadata": {},
   "source": [
    "**migration from 2 to 1 :**"
   ]
  },
  {
   "cell_type": "code",
   "execution_count": 220,
   "id": "01e423c1",
   "metadata": {},
   "outputs": [
    {
     "name": "stdout",
     "output_type": "stream",
     "text": [
      "-t 104.696670 -I 2 1 1 -n 1 0.035278 -n 2 0.002434 -eg 0 1 -6.447756 -eg 0 2 -5.667304 -ev 0.084201 2 1 0.455596 -en 0.111280 1 0.072297 -eg 0.111280 1 -4.765419 -en 0.478955 1 0.416924 -en 0.478955 2 0.019558 -ej 0.948179 2 1 -r 3315.394535 1046.966695\n"
     ]
    }
   ],
   "source": [
    "if \"my_ms_functions\" in sys.modules:\n",
    "    del sys.modules[\"my_ms_functions\"]\n",
    "import my_ms_functions\n",
    "\n",
    "if par_dict[\"best_model\"] == \"model_1_a\":\n",
    "    print(my_ms_functions.model_1_a_ms_m21(list(par_dict.values())[0:-1]))\n",
    "if par_dict[\"best_model\"] == \"model_2_d\":\n",
    "    print(my_ms_functions.model_2_d_ms_m21(list(par_dict.values())[0:-1]))"
   ]
  },
  {
   "cell_type": "markdown",
   "id": "41bd7897",
   "metadata": {},
   "source": [
    "**migration from 1 to 2 :**"
   ]
  },
  {
   "cell_type": "code",
   "execution_count": 216,
   "id": "773c10f5",
   "metadata": {},
   "outputs": [
    {
     "name": "stdout",
     "output_type": "stream",
     "text": [
      "-t 80.129225 -I 2 1 1 -n 1 0.046323 -n 2 0.003430 -eg 0 1 -4.514658 -eg 0 2 -4.637205 -ev 0.043854 1 2 0.332275 -en 0.153800 1 0.092759 -eg 0.153800 1 -3.526801 -en 0.659880 1 0.552717 -en 0.659880 2 0.035855 -ej 1.306687 2 1 -r 2537.425466 801.292252\n"
     ]
    }
   ],
   "source": [
    "if \"my_ms_functions\" in sys.modules:\n",
    "    del sys.modules[\"my_ms_functions\"]\n",
    "import my_ms_functions\n",
    "\n",
    "if par_dict[\"best_model\"] == \"model_1_a\":\n",
    "    print(my_ms_functions.model_1_a_ms_m12(list(par_dict.values())[0:-1]))\n",
    "if par_dict[\"best_model\"] == \"model_2_d\":\n",
    "    print(my_ms_functions.model_2_d_ms_m12(list(par_dict.values())[0:-1]))"
   ]
  },
  {
   "cell_type": "markdown",
   "id": "839196f7",
   "metadata": {},
   "source": [
    "this is how dadi does it from the *core* function :"
   ]
  },
  {
   "cell_type": "code",
   "execution_count": 12,
   "id": "04b1eb04",
   "metadata": {},
   "outputs": [],
   "source": [
    "import my_mscore_functions\n",
    "mscore = my_mscore_functions.model_1_a_mscore(list(par_dict.values())[0:6])"
   ]
  },
  {
   "cell_type": "code",
   "execution_count": 16,
   "id": "6d272218",
   "metadata": {},
   "outputs": [
    {
     "data": {
      "text/plain": [
       "'ms 2 1 -t 1588900.750000 -I 2 1 1 -n 1 0.061631 -n 2 0.096090 -eg 0 2 -17.014774 -en 0.062837 1 0.840800 -en 0.062837 2 0.279900 -ej 0.858237 2 1 -r 0.200000 15889007'"
      ]
     },
     "execution_count": 16,
     "metadata": {},
     "output_type": "execute_result"
    }
   ],
   "source": [
    "nsamples = [1,1] # number of alleles to sample from each population of the simulation\n",
    "reps = 1 # number of repetitions of the simulation\n",
    "recomb = 0.2 # assumed recombination rate - for the simulated segment length\n",
    "rsites= par_dict[\"theta\"]*10 # sites for recombination - dadi defaults to 10*theta\n",
    "mscommand = dadi.Misc.ms_command(par_dict[\"theta\"], nsamples, mscore, reps, recomb=recomb, rsites=rsites)\n",
    "mscommand"
   ]
  },
  {
   "cell_type": "code",
   "execution_count": 15,
   "id": "ea47dac9",
   "metadata": {},
   "outputs": [
    {
     "data": {
      "text/plain": [
       "1588900.75"
      ]
     },
     "execution_count": 15,
     "metadata": {},
     "output_type": "execute_result"
    }
   ],
   "source": [
    "par_dict[\"theta\"]"
   ]
  },
  {
   "cell_type": "code",
   "execution_count": null,
   "id": "198bda30",
   "metadata": {},
   "outputs": [],
   "source": []
  }
 ],
 "metadata": {
  "kernelspec": {
   "display_name": "Python [conda env:dadi]",
   "language": "python",
   "name": "conda-env-dadi-py"
  },
  "language_info": {
   "codemirror_mode": {
    "name": "ipython",
    "version": 3
   },
   "file_extension": ".py",
   "mimetype": "text/x-python",
   "name": "python",
   "nbconvert_exporter": "python",
   "pygments_lexer": "ipython3",
   "version": "3.8.13"
  }
 },
 "nbformat": 4,
 "nbformat_minor": 5
}
