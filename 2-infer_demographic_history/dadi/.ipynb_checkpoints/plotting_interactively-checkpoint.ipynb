{
 "cells": [
  {
   "cell_type": "code",
   "execution_count": 1,
   "id": "d4ca53ef-9b40-4fcb-bc06-82132c15ddfe",
   "metadata": {},
   "outputs": [],
   "source": [
    "import sys\n",
    "import os\n",
    "import numpy\n",
    "import dadi\n",
    "from dadi import Numerics, PhiManip, Integration, Misc\n",
    "from dadi.Spectrum_mod import Spectrum\n",
    "import pylab\n",
    "import matplotlib.pyplot as plt\n",
    "import my_models\n",
    "import argparse\n",
    "import pandas"
   ]
  },
  {
   "cell_type": "markdown",
   "id": "e90bdeac-5a88-4b77-9a20-7f54f722b810",
   "metadata": {},
   "source": [
    "The only part you need to change"
   ]
  },
  {
   "cell_type": "code",
   "execution_count": 35,
   "id": "33b32310-dafb-4e1e-ae3a-b1c4772ccf56",
   "metadata": {},
   "outputs": [],
   "source": [
    "chosen_model = \"model_1_b\"\n",
    "pops = \"sm_ki\""
   ]
  },
  {
   "cell_type": "markdown",
   "id": "1c67e528",
   "metadata": {},
   "source": [
    "load data into a dadi FS"
   ]
  },
  {
   "cell_type": "code",
   "execution_count": 2,
   "id": "d71adf12-1a29-4e5b-9fa1-b1925b15fbb5",
   "metadata": {},
   "outputs": [],
   "source": [
    "datafile = 'data/dummy_dani_variants.vcf.gz'"
   ]
  },
  {
   "cell_type": "code",
   "execution_count": 3,
   "id": "985ef58d-c660-4dd6-9bc6-b73e5f40a8be",
   "metadata": {},
   "outputs": [],
   "source": [
    "popfile = 'data/dummy_popfile.txt'"
   ]
  },
  {
   "cell_type": "code",
   "execution_count": 4,
   "id": "6bc10602-0c40-495f-94bf-286d01f174c1",
   "metadata": {},
   "outputs": [],
   "source": [
    "dd = dadi.Misc.make_data_dict_vcf(datafile, popfile)"
   ]
  },
  {
   "cell_type": "code",
   "execution_count": 23,
   "id": "566f6cc5-2afc-44df-ba81-6686d5f70595",
   "metadata": {},
   "outputs": [],
   "source": [
    "pop_ids = pops.split(\"_\")\n",
    "proj = [38,26]\n",
    "fs = dadi.Spectrum.from_data_dict(dd, pop_ids=pop_ids, projections = proj, polarized = False)"
   ]
  },
  {
   "cell_type": "markdown",
   "id": "71a04e26-d186-4bd3-8b24-5ce82eaf8bc1",
   "metadata": {},
   "source": [
    "choose best parameters from the 20 repetitions"
   ]
  },
  {
   "cell_type": "code",
   "execution_count": 41,
   "id": "8a953928-fd4d-4fbb-ae31-63873e97fef8",
   "metadata": {},
   "outputs": [],
   "source": [
    "all_best_lls = []\n",
    "\n",
    "for i in range(1, 21):\n",
    "    \n",
    "    model_file_name = [\"tables/\", pops, \".\", chosen_model, \".optimized.r_\", str(i), \".txt\"]\n",
    "    model_file_name = ''.join(model_file_name)\n",
    "    if os.path.exists(model_file_name):\n",
    "        model_optimized_allrounds = pandas.read_csv(model_file_name, sep='\\t')\n",
    "        ll_col = model_optimized_allrounds.loc[:,\"log-likelihood\"]\n",
    "        best_ll = model_optimized_allrounds.iloc[ll_col.idxmax(),]\n",
    "        all_best_lls.append(best_ll)\n",
    "\n",
    "all_best_lls_df = pandas.concat(all_best_lls, axis=1).T\n",
    "best_ll = all_best_lls_df.sort_values('log-likelihood', ascending=False)[:1]\n",
    "param_string = best_ll.iloc[0,6].split(\",\")\n",
    "params = [float(l) for l in param_string]"
   ]
  },
  {
   "cell_type": "code",
   "execution_count": 44,
   "id": "fcba3fb7",
   "metadata": {},
   "outputs": [
    {
     "name": "stdout",
     "output_type": "stream",
     "text": [
      "for model_1_b best repetition was Round_4_Replicate_29 with a log-likelihood of -18725.35 and the following parameters:\n",
      "Tsplit : 0.3211\n",
      "Tbot : 0.7063\n",
      "iber_a : 0.2344\n",
      "iber_pr : 0.1665\n",
      "eura_a : 0.2236\n",
      "eura_pr : 0.3097\n",
      "m : 6.9633\n",
      "m_12 : 0.2882\n",
      "m_21 : 0.2094\n"
     ]
    }
   ],
   "source": [
    "print(\"for\", chosen_model, \"best repetition was\", best_ll.iloc[0,1])\n",
    "print(\"with a log-likelihood of\", best_ll.iloc[0,2], \"and the following parameters:\")\n",
    "if len(params) == 9:\n",
    "    param_def = [\"Tsplit\", \"Tbot\", \"iber_a\", \"iber_pr\", \"eura_a\", \"eura_pr\", \"m\", \"m_12\", \"m_21\"]\n",
    "if len(params) == 13:\n",
    "    param_def = [\"Tsplit\", \"Tbot\", \"Tbot_a\", \"iber_a\", \"iber_pr_a\", \"iber_pr\", \"eura_a\", \"eura_pr\", \"m\", \"ma_12\", \"ma_21\", \"m_12\", \"m_21\"]\n",
    "for i in range(0, len(params)):\n",
    "        print(param_def[i], \":\", params[i])"
   ]
  },
  {
   "cell_type": "code",
   "execution_count": 48,
   "id": "cfbe644e-14f9-4aff-9068-e57565cc0a65",
   "metadata": {},
   "outputs": [],
   "source": [
    "ns = proj\n",
    "pts = 60"
   ]
  },
  {
   "cell_type": "code",
   "execution_count": 49,
   "id": "14770fb9-49ef-4935-be52-080c8160c3d0",
   "metadata": {},
   "outputs": [],
   "source": [
    "if chosen_model == \"model_1_a\":\n",
    "\tmodel = my_models.model_1_a(params=params, ns=ns, pts=pts)\n",
    "\n",
    "elif chosen_model == \"model_1_b\":\n",
    "\tmodel = my_models.model_1_b(params=params, ns=ns, pts=pts)\n",
    "\n",
    "elif chosen_model == \"model_2_a\":\n",
    "\tmodel = my_models.model_2_a(params=params, ns=ns, pts=pts)\n",
    "\n",
    "elif chosen_model == \"model_2_b\":\n",
    "\tmodel = my_models.model_2_b(params=params, ns=ns, pts=pts)\n",
    "\n",
    "elif chosen_model == \"model_2_c\":\n",
    "\tmodel = my_models.model_2_c(params=params, ns=ns, pts=pts)\n",
    "\n",
    "elif chosen_model == \"model_2_d\":\n",
    "\tmodel = my_models.model_2_d(params=params, ns=ns, pts=pts)\n",
    "\n",
    "model_folded = model.fold()"
   ]
  },
  {
   "cell_type": "code",
   "execution_count": 50,
   "id": "3afa31c2-2082-46a4-8206-17ce544d919a",
   "metadata": {
    "scrolled": true
   },
   "outputs": [
    {
     "data": {
      "image/png": "[encoded data removed]",
      "text/plain": [
       "<Figure size 432x288 with 6 Axes>"
      ]
     },
     "metadata": {
      "needs_background": "light"
     },
     "output_type": "display_data"
    }
   ],
   "source": [
    "plot_file_name = [\"plots/\", chosen_model, \".2D_comp_multinom.pdf\"]\n",
    "plot_file_name = ''.join(plot_file_name)\n",
    "\n",
    "fig = pylab.figure(1)\n",
    "fig.clear()\n",
    "dadi.Plotting.plot_2d_comp_multinom(model, fs, pop_ids=pop_ids, resid_range=30, residual='Anscombe')\n",
    "fig.savefig(plot_file_name)"
   ]
  },
  {
   "cell_type": "code",
   "execution_count": null,
   "id": "ec86e67c",
   "metadata": {},
   "outputs": [],
   "source": []
  }
 ],
 "metadata": {
  "kernelspec": {
   "display_name": "Python [conda env:dadi]",
   "language": "python",
   "name": "conda-env-dadi-py"
  },
  "language_info": {
   "codemirror_mode": {
    "name": "ipython",
    "version": 3
   },
   "file_extension": ".py",
   "mimetype": "text/x-python",
   "name": "python",
   "nbconvert_exporter": "python",
   "pygments_lexer": "ipython3",
   "version": "3.8.13"
  }
 },
 "nbformat": 4,
 "nbformat_minor": 5
}
