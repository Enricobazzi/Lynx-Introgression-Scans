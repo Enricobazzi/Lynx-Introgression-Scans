{
 "cells": [
  {
   "cell_type": "code",
   "execution_count": 2,
   "id": "d4ca53ef-9b40-4fcb-bc06-82132c15ddfe",
   "metadata": {},
   "outputs": [],
   "source": [
    "import sys\n",
    "import os\n",
    "import numpy\n",
    "import dadi\n",
    "from dadi import Numerics, PhiManip, Integration, Misc\n",
    "from dadi.Spectrum_mod import Spectrum\n",
    "import pylab\n",
    "import matplotlib.pyplot as plt\n",
    "import my_models\n",
    "import argparse\n",
    "import pandas"
   ]
  },
  {
   "cell_type": "markdown",
   "id": "e90bdeac-5a88-4b77-9a20-7f54f722b810",
   "metadata": {},
   "source": [
    "Select the population pair in order to load the appropriate data"
   ]
  },
  {
   "cell_type": "code",
   "execution_count": 1,
   "id": "33b32310-dafb-4e1e-ae3a-b1c4772ccf56",
   "metadata": {},
   "outputs": [],
   "source": [
    "pops = \"lpa-wel\""
   ]
  },
  {
   "cell_type": "markdown",
   "id": "1c67e528",
   "metadata": {},
   "source": [
    "#### load VCF and populations into a dadi FS"
   ]
  },
  {
   "cell_type": "code",
   "execution_count": 4,
   "id": "d71adf12-1a29-4e5b-9fa1-b1925b15fbb5",
   "metadata": {},
   "outputs": [],
   "source": [
    "datafile = 'data/lp_ll_introgression_LyCa_ref.sorted.filter5.phased.fixed.' + pops + '.miss.rd_fil.intergenic.vcf.gz'"
   ]
  },
  {
   "cell_type": "code",
   "execution_count": 5,
   "id": "985ef58d-c660-4dd6-9bc6-b73e5f40a8be",
   "metadata": {},
   "outputs": [],
   "source": [
    "popfile = 'data/' + pops + '_dadi_popfile.txt'"
   ]
  },
  {
   "cell_type": "code",
   "execution_count": 8,
   "id": "6bc10602-0c40-495f-94bf-286d01f174c1",
   "metadata": {},
   "outputs": [],
   "source": [
    "dd = dadi.Misc.make_data_dict_vcf(datafile, popfile)"
   ]
  },
  {
   "cell_type": "code",
   "execution_count": 9,
   "id": "566f6cc5-2afc-44df-ba81-6686d5f70595",
   "metadata": {},
   "outputs": [],
   "source": [
    "pop_ids = pops.split(\"-\")\n",
    "\n",
    "if pops == \"lpa-wel\":\n",
    "    proj_pop1 = 34\n",
    "    proj_pop2 = 36\n",
    "\n",
    "if pops == \"lpa-eel\":\n",
    "    proj_pop1 = 34\n",
    "    proj_pop2 = 34\n",
    "\n",
    "if pops == \"lpa-sel\":\n",
    "    proj_pop1 = 34\n",
    "    proj_pop2 = 22\n",
    "\n",
    "proj = [proj_pop1, proj_pop2]\n",
    "\n",
    "pts = 60"
   ]
  },
  {
   "cell_type": "code",
   "execution_count": 10,
   "id": "8cab521c-3343-417b-8812-cc66c5a99ca9",
   "metadata": {},
   "outputs": [],
   "source": [
    "fs = dadi.Spectrum.from_data_dict(dd, pop_ids=pop_ids, projections = proj, polarized = False)"
   ]
  },
  {
   "cell_type": "code",
   "execution_count": 11,
   "id": "6cdcc6be-471a-4985-93a9-3c6d01447543",
   "metadata": {},
   "outputs": [
    {
     "data": {
      "text/plain": [
       "['lpa', 'wel']"
      ]
     },
     "execution_count": 11,
     "metadata": {},
     "output_type": "execute_result"
    }
   ],
   "source": [
    "fs.pop_ids"
   ]
  },
  {
   "cell_type": "markdown",
   "id": "71a04e26-d186-4bd3-8b24-5ce82eaf8bc1",
   "metadata": {},
   "source": [
    "#### choose best parameters from the 20 repetitions"
   ]
  },
  {
   "cell_type": "code",
   "execution_count": 8,
   "id": "713a08a0-994e-4a38-b731-32625965b432",
   "metadata": {},
   "outputs": [],
   "source": [
    "table = '../../ordered_opti_table.tsv'"
   ]
  },
  {
   "cell_type": "code",
   "execution_count": 9,
   "id": "39956a56-3989-455c-8880-bb071b4cf017",
   "metadata": {},
   "outputs": [
    {
     "data": {
      "text/html": [
       "<div>\n",
       "<style scoped>\n",
       "    .dataframe tbody tr th:only-of-type {\n",
       "        vertical-align: middle;\n",
       "    }\n",
       "\n",
       "    .dataframe tbody tr th {\n",
       "        vertical-align: top;\n",
       "    }\n",
       "\n",
       "    .dataframe thead th {\n",
       "        text-align: right;\n",
       "    }\n",
       "</style>\n",
       "<table border=\"1\" class=\"dataframe\">\n",
       "  <thead>\n",
       "    <tr style=\"text-align: right;\">\n",
       "      <th></th>\n",
       "      <th>Model</th>\n",
       "      <th>pop_pair</th>\n",
       "      <th>opti_n</th>\n",
       "      <th>Replicate</th>\n",
       "      <th>log-likelihood</th>\n",
       "      <th>theta</th>\n",
       "      <th>Tsplit</th>\n",
       "      <th>Tbot2</th>\n",
       "      <th>Tbot1</th>\n",
       "      <th>iber_a</th>\n",
       "      <th>iber_pr_a</th>\n",
       "      <th>iber_pr</th>\n",
       "      <th>eura_a</th>\n",
       "      <th>eura_pr</th>\n",
       "      <th>m</th>\n",
       "      <th>ma_12</th>\n",
       "      <th>ma_21</th>\n",
       "      <th>m_12</th>\n",
       "      <th>m_21</th>\n",
       "    </tr>\n",
       "  </thead>\n",
       "  <tbody>\n",
       "    <tr>\n",
       "      <th>0</th>\n",
       "      <td>model_1_b</td>\n",
       "      <td>lpa-wel</td>\n",
       "      <td>NaN</td>\n",
       "      <td>Round_4_Replicate_24</td>\n",
       "      <td>-43389.08</td>\n",
       "      <td>535125.33</td>\n",
       "      <td>8.5867</td>\n",
       "      <td>0.0000</td>\n",
       "      <td>0.6797</td>\n",
       "      <td>1.1539</td>\n",
       "      <td>1.0000</td>\n",
       "      <td>0.0861</td>\n",
       "      <td>0.8245</td>\n",
       "      <td>0.1946</td>\n",
       "      <td>17.4318</td>\n",
       "      <td>0.0000</td>\n",
       "      <td>0.0000</td>\n",
       "      <td>0.0967</td>\n",
       "      <td>0.1416</td>\n",
       "    </tr>\n",
       "    <tr>\n",
       "      <th>1</th>\n",
       "      <td>model_1_a</td>\n",
       "      <td>lpa-wel</td>\n",
       "      <td>NaN</td>\n",
       "      <td>Round_4_Replicate_32</td>\n",
       "      <td>-44315.47</td>\n",
       "      <td>443305.61</td>\n",
       "      <td>2.8545</td>\n",
       "      <td>0.0000</td>\n",
       "      <td>0.0618</td>\n",
       "      <td>0.4839</td>\n",
       "      <td>1.0000</td>\n",
       "      <td>0.1955</td>\n",
       "      <td>0.5965</td>\n",
       "      <td>0.1753</td>\n",
       "      <td>0.1120</td>\n",
       "      <td>0.0000</td>\n",
       "      <td>0.0000</td>\n",
       "      <td>0.0753</td>\n",
       "      <td>0.0497</td>\n",
       "    </tr>\n",
       "    <tr>\n",
       "      <th>2</th>\n",
       "      <td>model_1_b</td>\n",
       "      <td>lpa-wel</td>\n",
       "      <td>NaN</td>\n",
       "      <td>Round_4_Replicate_15</td>\n",
       "      <td>-51031.87</td>\n",
       "      <td>973036.51</td>\n",
       "      <td>17.4958</td>\n",
       "      <td>0.0000</td>\n",
       "      <td>0.3325</td>\n",
       "      <td>0.7331</td>\n",
       "      <td>1.0000</td>\n",
       "      <td>0.0714</td>\n",
       "      <td>0.3672</td>\n",
       "      <td>0.2807</td>\n",
       "      <td>7.9891</td>\n",
       "      <td>0.0000</td>\n",
       "      <td>0.0000</td>\n",
       "      <td>0.0514</td>\n",
       "      <td>0.1171</td>\n",
       "    </tr>\n",
       "    <tr>\n",
       "      <th>3</th>\n",
       "      <td>model_2_c</td>\n",
       "      <td>lpa-wel</td>\n",
       "      <td>NaN</td>\n",
       "      <td>Round_4_Replicate_20</td>\n",
       "      <td>-51584.11</td>\n",
       "      <td>1045430.40</td>\n",
       "      <td>2.4925</td>\n",
       "      <td>0.2081</td>\n",
       "      <td>0.1021</td>\n",
       "      <td>1.4375</td>\n",
       "      <td>0.1023</td>\n",
       "      <td>0.2044</td>\n",
       "      <td>0.2589</td>\n",
       "      <td>0.1744</td>\n",
       "      <td>3.1600</td>\n",
       "      <td>0.2695</td>\n",
       "      <td>0.3215</td>\n",
       "      <td>1.2614</td>\n",
       "      <td>0.5615</td>\n",
       "    </tr>\n",
       "    <tr>\n",
       "      <th>4</th>\n",
       "      <td>model_1_a</td>\n",
       "      <td>lpa-wel</td>\n",
       "      <td>NaN</td>\n",
       "      <td>Round_4_Replicate_31</td>\n",
       "      <td>-52536.94</td>\n",
       "      <td>616137.47</td>\n",
       "      <td>1.4065</td>\n",
       "      <td>0.0000</td>\n",
       "      <td>0.0985</td>\n",
       "      <td>0.8791</td>\n",
       "      <td>1.0000</td>\n",
       "      <td>0.0764</td>\n",
       "      <td>0.5633</td>\n",
       "      <td>0.1288</td>\n",
       "      <td>0.0792</td>\n",
       "      <td>0.0000</td>\n",
       "      <td>0.0000</td>\n",
       "      <td>0.1825</td>\n",
       "      <td>0.1192</td>\n",
       "    </tr>\n",
       "    <tr>\n",
       "      <th>...</th>\n",
       "      <td>...</td>\n",
       "      <td>...</td>\n",
       "      <td>...</td>\n",
       "      <td>...</td>\n",
       "      <td>...</td>\n",
       "      <td>...</td>\n",
       "      <td>...</td>\n",
       "      <td>...</td>\n",
       "      <td>...</td>\n",
       "      <td>...</td>\n",
       "      <td>...</td>\n",
       "      <td>...</td>\n",
       "      <td>...</td>\n",
       "      <td>...</td>\n",
       "      <td>...</td>\n",
       "      <td>...</td>\n",
       "      <td>...</td>\n",
       "      <td>...</td>\n",
       "      <td>...</td>\n",
       "    </tr>\n",
       "    <tr>\n",
       "      <th>9149</th>\n",
       "      <td>model_1_b</td>\n",
       "      <td>lpa-wel</td>\n",
       "      <td>NaN</td>\n",
       "      <td>Round_1_Replicate_6</td>\n",
       "      <td>-23235403.08</td>\n",
       "      <td>195323.47</td>\n",
       "      <td>0.3146</td>\n",
       "      <td>0.0000</td>\n",
       "      <td>0.3198</td>\n",
       "      <td>2.4301</td>\n",
       "      <td>1.0000</td>\n",
       "      <td>0.9898</td>\n",
       "      <td>3.4494</td>\n",
       "      <td>0.6187</td>\n",
       "      <td>6.0770</td>\n",
       "      <td>0.0000</td>\n",
       "      <td>0.0000</td>\n",
       "      <td>0.8329</td>\n",
       "      <td>1.8469</td>\n",
       "    </tr>\n",
       "    <tr>\n",
       "      <th>9150</th>\n",
       "      <td>model_2_a</td>\n",
       "      <td>lpa-wel</td>\n",
       "      <td>NaN</td>\n",
       "      <td>Round_1_Replicate_5</td>\n",
       "      <td>-23773797.85</td>\n",
       "      <td>164090.43</td>\n",
       "      <td>0.4713</td>\n",
       "      <td>5.6799</td>\n",
       "      <td>0.4542</td>\n",
       "      <td>2.2018</td>\n",
       "      <td>0.9899</td>\n",
       "      <td>0.9899</td>\n",
       "      <td>1.0339</td>\n",
       "      <td>0.9899</td>\n",
       "      <td>2.8591</td>\n",
       "      <td>0.5781</td>\n",
       "      <td>0.4875</td>\n",
       "      <td>2.8942</td>\n",
       "      <td>3.1423</td>\n",
       "    </tr>\n",
       "    <tr>\n",
       "      <th>9151</th>\n",
       "      <td>model_2_a</td>\n",
       "      <td>lpa-wel</td>\n",
       "      <td>NaN</td>\n",
       "      <td>Round_1_Replicate_2</td>\n",
       "      <td>-24696430.56</td>\n",
       "      <td>206107.90</td>\n",
       "      <td>0.1223</td>\n",
       "      <td>0.2409</td>\n",
       "      <td>0.1619</td>\n",
       "      <td>2.1834</td>\n",
       "      <td>0.9899</td>\n",
       "      <td>0.9899</td>\n",
       "      <td>2.9269</td>\n",
       "      <td>0.9899</td>\n",
       "      <td>4.7816</td>\n",
       "      <td>6.5225</td>\n",
       "      <td>2.8703</td>\n",
       "      <td>1.8723</td>\n",
       "      <td>1.0320</td>\n",
       "    </tr>\n",
       "    <tr>\n",
       "      <th>9152</th>\n",
       "      <td>model_2_a</td>\n",
       "      <td>lpa-wel</td>\n",
       "      <td>NaN</td>\n",
       "      <td>Round_1_Replicate_2</td>\n",
       "      <td>-24730109.44</td>\n",
       "      <td>153803.97</td>\n",
       "      <td>1.0057</td>\n",
       "      <td>0.3517</td>\n",
       "      <td>0.2669</td>\n",
       "      <td>3.0545</td>\n",
       "      <td>0.9899</td>\n",
       "      <td>0.4823</td>\n",
       "      <td>3.0174</td>\n",
       "      <td>0.9899</td>\n",
       "      <td>0.6814</td>\n",
       "      <td>0.9374</td>\n",
       "      <td>0.4386</td>\n",
       "      <td>2.3406</td>\n",
       "      <td>2.2113</td>\n",
       "    </tr>\n",
       "    <tr>\n",
       "      <th>9153</th>\n",
       "      <td>model_1_a</td>\n",
       "      <td>lpa-wel</td>\n",
       "      <td>NaN</td>\n",
       "      <td>Round_1_Replicate_4</td>\n",
       "      <td>-25087974.15</td>\n",
       "      <td>104201.58</td>\n",
       "      <td>1.1715</td>\n",
       "      <td>0.0000</td>\n",
       "      <td>0.5037</td>\n",
       "      <td>2.9561</td>\n",
       "      <td>1.0000</td>\n",
       "      <td>0.9898</td>\n",
       "      <td>6.8854</td>\n",
       "      <td>0.9898</td>\n",
       "      <td>0.3199</td>\n",
       "      <td>0.0000</td>\n",
       "      <td>0.0000</td>\n",
       "      <td>2.2065</td>\n",
       "      <td>0.2889</td>\n",
       "    </tr>\n",
       "  </tbody>\n",
       "</table>\n",
       "<p>9154 rows × 19 columns</p>\n",
       "</div>"
      ],
      "text/plain": [
       "          Model pop_pair  opti_n             Replicate  log-likelihood  \\\n",
       "0     model_1_b  lpa-wel     NaN  Round_4_Replicate_24       -43389.08   \n",
       "1     model_1_a  lpa-wel     NaN  Round_4_Replicate_32       -44315.47   \n",
       "2     model_1_b  lpa-wel     NaN  Round_4_Replicate_15       -51031.87   \n",
       "3     model_2_c  lpa-wel     NaN  Round_4_Replicate_20       -51584.11   \n",
       "4     model_1_a  lpa-wel     NaN  Round_4_Replicate_31       -52536.94   \n",
       "...         ...      ...     ...                   ...             ...   \n",
       "9149  model_1_b  lpa-wel     NaN   Round_1_Replicate_6    -23235403.08   \n",
       "9150  model_2_a  lpa-wel     NaN   Round_1_Replicate_5    -23773797.85   \n",
       "9151  model_2_a  lpa-wel     NaN   Round_1_Replicate_2    -24696430.56   \n",
       "9152  model_2_a  lpa-wel     NaN   Round_1_Replicate_2    -24730109.44   \n",
       "9153  model_1_a  lpa-wel     NaN   Round_1_Replicate_4    -25087974.15   \n",
       "\n",
       "           theta   Tsplit   Tbot2   Tbot1  iber_a  iber_pr_a  iber_pr  eura_a  \\\n",
       "0      535125.33   8.5867  0.0000  0.6797  1.1539     1.0000   0.0861  0.8245   \n",
       "1      443305.61   2.8545  0.0000  0.0618  0.4839     1.0000   0.1955  0.5965   \n",
       "2      973036.51  17.4958  0.0000  0.3325  0.7331     1.0000   0.0714  0.3672   \n",
       "3     1045430.40   2.4925  0.2081  0.1021  1.4375     0.1023   0.2044  0.2589   \n",
       "4      616137.47   1.4065  0.0000  0.0985  0.8791     1.0000   0.0764  0.5633   \n",
       "...          ...      ...     ...     ...     ...        ...      ...     ...   \n",
       "9149   195323.47   0.3146  0.0000  0.3198  2.4301     1.0000   0.9898  3.4494   \n",
       "9150   164090.43   0.4713  5.6799  0.4542  2.2018     0.9899   0.9899  1.0339   \n",
       "9151   206107.90   0.1223  0.2409  0.1619  2.1834     0.9899   0.9899  2.9269   \n",
       "9152   153803.97   1.0057  0.3517  0.2669  3.0545     0.9899   0.4823  3.0174   \n",
       "9153   104201.58   1.1715  0.0000  0.5037  2.9561     1.0000   0.9898  6.8854   \n",
       "\n",
       "      eura_pr        m   ma_12   ma_21    m_12    m_21  \n",
       "0      0.1946  17.4318  0.0000  0.0000  0.0967  0.1416  \n",
       "1      0.1753   0.1120  0.0000  0.0000  0.0753  0.0497  \n",
       "2      0.2807   7.9891  0.0000  0.0000  0.0514  0.1171  \n",
       "3      0.1744   3.1600  0.2695  0.3215  1.2614  0.5615  \n",
       "4      0.1288   0.0792  0.0000  0.0000  0.1825  0.1192  \n",
       "...       ...      ...     ...     ...     ...     ...  \n",
       "9149   0.6187   6.0770  0.0000  0.0000  0.8329  1.8469  \n",
       "9150   0.9899   2.8591  0.5781  0.4875  2.8942  3.1423  \n",
       "9151   0.9899   4.7816  6.5225  2.8703  1.8723  1.0320  \n",
       "9152   0.9899   0.6814  0.9374  0.4386  2.3406  2.2113  \n",
       "9153   0.9898   0.3199  0.0000  0.0000  2.2065  0.2889  \n",
       "\n",
       "[9154 rows x 19 columns]"
      ]
     },
     "execution_count": 9,
     "metadata": {},
     "output_type": "execute_result"
    }
   ],
   "source": [
    "df = pandas.read_csv(table, sep='\\t')\n",
    "df"
   ]
  },
  {
   "cell_type": "code",
   "execution_count": 39,
   "id": "15eb0aba-d7d7-4395-8ce0-90d92aaa9385",
   "metadata": {},
   "outputs": [],
   "source": [
    "chosen_model = 'model_1_b'"
   ]
  },
  {
   "cell_type": "code",
   "execution_count": 40,
   "id": "b715cdd2-3e35-4830-92eb-be8b58986802",
   "metadata": {},
   "outputs": [
    {
     "data": {
      "text/plain": [
       "{'index': 0,\n",
       " 'Model': 'model_1_b',\n",
       " 'pop_pair': 'lpa-wel',\n",
       " 'opti_n': nan,\n",
       " 'Replicate': 'Round_4_Replicate_24',\n",
       " 'log-likelihood': -43389.08,\n",
       " 'theta': 535125.33,\n",
       " 'Tsplit': 8.5867,\n",
       " 'Tbot2': 0.0,\n",
       " 'Tbot1': 0.6797,\n",
       " 'iber_a': 1.1539,\n",
       " 'iber_pr_a': 1.0,\n",
       " 'iber_pr': 0.0861,\n",
       " 'eura_a': 0.8245,\n",
       " 'eura_pr': 0.1946,\n",
       " 'm': 17.4318,\n",
       " 'ma_12': 0.0,\n",
       " 'ma_21': 0.0,\n",
       " 'm_12': 0.0967,\n",
       " 'm_21': 0.1416}"
      ]
     },
     "execution_count": 40,
     "metadata": {},
     "output_type": "execute_result"
    }
   ],
   "source": [
    "df_model = df[df.Model == chosen_model].reset_index()\n",
    "row_dict = df_model.iloc[0].to_dict()\n",
    "row_dict"
   ]
  },
  {
   "cell_type": "code",
   "execution_count": 44,
   "id": "22f3d687-df1f-4769-b28a-d020269f8814",
   "metadata": {},
   "outputs": [
    {
     "name": "stdout",
     "output_type": "stream",
     "text": [
      "[8.5867, 0.6797, 1.1539, 0.0861, 0.8245, 0.1946, 17.4318, 0.0967, 0.1416]\n"
     ]
    }
   ],
   "source": [
    "if chosen_model == 'model_1_a' or chosen_model == 'model_1_b':\n",
    "    params = [row_dict[\"Tsplit\"], row_dict[\"Tbot1\"], row_dict[\"iber_a\"], row_dict[\"iber_pr\"],\\\n",
    "              row_dict[\"eura_a\"], row_dict[\"eura_pr\"], row_dict[\"m\"], row_dict[\"m_12\"], row_dict[\"m_21\"]]\n",
    "if chosen_model == 'model_2_a' or chosen_model == 'model_2_b' or chosen_model == 'model_2_c':\n",
    "    params = [row_dict[\"Tsplit\"], row_dict[\"Tbot2\"], row_dict[\"Tbot1\"], row_dict[\"iber_a\"],\\\n",
    "              row_dict[\"iber_pr_a\"], row_dict[\"iber_pr\"], row_dict[\"eura_a\"], row_dict[\"eura_pr\"],\\\n",
    "              row_dict[\"m\"], row_dict[\"ma_12\"], row_dict[\"ma_21\"], row_dict[\"m_12\"], row_dict[\"m_21\"]]\n",
    "print(params)"
   ]
  },
  {
   "cell_type": "code",
   "execution_count": 42,
   "id": "5894b7e3-62f1-4cfc-a83b-a2de524750f0",
   "metadata": {},
   "outputs": [],
   "source": [
    "if chosen_model == \"model_1_a\":\n",
    "\tmodel = my_models.model_1_a(params=params, ns=proj, pts=pts)\n",
    "\n",
    "elif chosen_model == \"model_1_b\":\n",
    "\tmodel = my_models.model_1_b(params=params, ns=proj, pts=pts)\n",
    "\n",
    "elif chosen_model == \"model_2_a\":\n",
    "\tmodel = my_models.model_2_a(params=params, ns=proj, pts=pts)\n",
    "\n",
    "elif chosen_model == \"model_2_b\":\n",
    "\tmodel = my_models.model_2_b(params=params, ns=proj, pts=pts)\n",
    "\n",
    "elif chosen_model == \"model_2_c\":\n",
    "\tmodel = my_models.model_2_c(params=params, ns=proj, pts=pts)\n",
    "\n",
    "elif chosen_model == \"model_2_d\":\n",
    "\tmodel = my_models.model_2_d(params=params, ns=proj, pts=pts)\n",
    "\n",
    "model_folded = model.fold()"
   ]
  },
  {
   "cell_type": "code",
   "execution_count": 43,
   "id": "5f1a52ae-7672-41ce-a9ad-7490036d4618",
   "metadata": {},
   "outputs": [
    {
     "data": {
      "image/png": "[encoded data removed]",
      "text/plain": [
       "<Figure size 432x288 with 6 Axes>"
      ]
     },
     "metadata": {
      "needs_background": "light"
     },
     "output_type": "display_data"
    }
   ],
   "source": [
    "dadi.Plotting.plot_2d_comp_multinom(model_folded, fs, pop_ids=pop_ids, residual='Anscombe')"
   ]
  },
  {
   "cell_type": "code",
   "execution_count": 50,
   "id": "3afa31c2-2082-46a4-8206-17ce544d919a",
   "metadata": {
    "scrolled": true
   },
   "outputs": [
    {
     "data": {
      "image/png": "[encoded data removed]",
      "text/plain": [
       "<Figure size 432x288 with 6 Axes>"
      ]
     },
     "metadata": {
      "needs_background": "light"
     },
     "output_type": "display_data"
    }
   ],
   "source": [
    "plot_file_name = [\"plots/\", chosen_model, \".2D_comp_multinom.pdf\"]\n",
    "plot_file_name = ''.join(plot_file_name)\n",
    "\n",
    "fig = pylab.figure(1)\n",
    "fig.clear()\n",
    "dadi.Plotting.plot_2d_comp_multinom(model_folded, fs, pop_ids=pop_ids, residual='Anscombe')\n",
    "fig.savefig(plot_file_name)"
   ]
  },
  {
   "cell_type": "markdown",
   "id": "cd256a86-4fc8-437f-ac7f-81cac2e8c4df",
   "metadata": {},
   "source": [
    "#### try the plotting functions from functions file"
   ]
  },
  {
   "cell_type": "code",
   "execution_count": 32,
   "id": "ec86e67c",
   "metadata": {},
   "outputs": [],
   "source": [
    "if \"plot_functions\" in sys.modules:\n",
    "    del sys.modules[\"plot_functions\"]\n",
    "import plot_functions"
   ]
  },
  {
   "cell_type": "code",
   "execution_count": 30,
   "id": "5a309d83-8f95-4b87-9aa0-977f6c22a3b3",
   "metadata": {},
   "outputs": [],
   "source": [
    "pops = \"lpa-wel\"\n",
    "vcf_file = 'data/lp_ll_introgression_LyCa_ref.sorted.filter5.phased.fixed.' + pops + '.miss.rd_fil.intergenic.vcf.gz'\n",
    "pop_file = 'data/'+ pops + '_dadi_popfile.txt'\n",
    "opti_table = '../../ordered_opti_table.tsv'\n",
    "models = ['model_1_a', 'model_1_b', 'model_2_a', 'model_2_b', 'model_2_c']"
   ]
  },
  {
   "cell_type": "code",
   "execution_count": 22,
   "id": "bb3e8aed-b71f-47aa-b459-544d1934acc0",
   "metadata": {},
   "outputs": [],
   "source": [
    "proj = plot_functions.get_pop_pair_projs(pops)"
   ]
  },
  {
   "cell_type": "code",
   "execution_count": 25,
   "id": "8e35fabe-e2ac-4abd-a8c5-e621728b57a9",
   "metadata": {},
   "outputs": [],
   "source": [
    "fs_data = plot_functions.get_data_fs(vcf_file, pop_file, pops, proj)"
   ]
  },
  {
   "cell_type": "code",
   "execution_count": 37,
   "id": "1dbeaca8-4652-4185-b9c4-972ae40294b8",
   "metadata": {},
   "outputs": [],
   "source": [
    "for chosen_model in models:\n",
    "    print(\"plotting 2D SFS of\", chosen_model, \"for population pair\", pops)\n",
    "    for n in range(4):\n",
    "        print(n, \"th best scoring parameters\")\n",
    "        \n",
    "        params = plot_functions.get_models_params_n_best_opti_results(opti_table, chosen_model, n)\n",
    "        \n",
    "        model_folded = plot_functions.get_model_obj(chosen_model, params, proj)\n",
    "        \n",
    "        plot_file_name = 'plots/' + chosen_model + '.' + pops + '.' + str(n) + 'th_params.2D_sfs.pdf'\n",
    "        \n",
    "        plot_functions.plot_save_fs_vs_model_2D(plot_file_name, model_folded, fs_data)"
   ]
  }
 ],
 "metadata": {
  "kernelspec": {
   "display_name": "Python [conda env:dadi]",
   "language": "python",
   "name": "conda-env-dadi-py"
  },
  "language_info": {
   "codemirror_mode": {
    "name": "ipython",
    "version": 3
   },
   "file_extension": ".py",
   "mimetype": "text/x-python",
   "name": "python",
   "nbconvert_exporter": "python",
   "pygments_lexer": "ipython3",
   "version": "3.8.13"
  }
 },
 "nbformat": 4,
 "nbformat_minor": 5
}
